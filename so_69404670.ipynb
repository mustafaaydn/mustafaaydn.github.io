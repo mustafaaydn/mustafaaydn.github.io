{
 "cells": [
  {
   "cell_type": "code",
   "execution_count": 1,
   "metadata": {},
   "outputs": [],
   "source": [
    "import pandas as pd"
   ]
  },
  {
   "cell_type": "code",
   "execution_count": 2,
   "metadata": {},
   "outputs": [],
   "source": [
    "subcols = [\"subjid\",\"marks\"]           #written in jupyter cell 1\n",
    "subjdf = pd.DataFrame(columns=subcols)"
   ]
  },
  {
   "cell_type": "code",
   "execution_count": 3,
   "metadata": {},
   "outputs": [],
   "source": [
    "testcolumns = [\"testid\",\"testmarks\"]   #written in jupyter cell 2\n",
    "testdf = pd.DataFrame(columns=testcolumns)"
   ]
  },
  {
   "cell_type": "code",
   "execution_count": 4,
   "metadata": {},
   "outputs": [],
   "source": [
    "def fun1():                  #written in jupyter cell 3\n",
    "    return df1,df2\n",
    "\n",
    "def fun2(df1,df2):\n",
    "    return df1,df2,df3\n",
    "\n",
    "def fun3(df1,df2,df3):\n",
    "    # subjdf = subjdf.reset_index()   # if you uncomment this, error happens\n",
    "    subjdf['subid'] = df1['indid']\n",
    "    return df1,df2,df3,subjdf\n",
    "\n",
    "def fun4(df1,df2,df3,subjdf):\n",
    "    testdf['testid'] = df2['examid']\n",
    "    return df1,df2,df3,subjdf,testdf"
   ]
  },
  {
   "cell_type": "code",
   "execution_count": 5,
   "metadata": {},
   "outputs": [
    {
     "data": {
      "text/plain": [
       "(   indid\n",
       " 0    0.0\n",
       " 1    1.0\n",
       " 2    2.0\n",
       " 3    3.0\n",
       " 4    4.0,\n",
       " 2,\n",
       " 3,\n",
       "   subjid marks  subid\n",
       " 0    NaN   NaN    0.0\n",
       " 1    NaN   NaN    1.0\n",
       " 2    NaN   NaN    2.0\n",
       " 3    NaN   NaN    3.0\n",
       " 4    NaN   NaN    4.0)"
      ]
     },
     "execution_count": 5,
     "metadata": {},
     "output_type": "execute_result"
    }
   ],
   "source": [
    "# fake dataframe\n",
    "df1 = pd._testing.makeMixedDataFrame().iloc[:, [0]]\n",
    "df1.columns = [\"indid\"]\n",
    "\n",
    "fun3(df1, 2, 3)"
   ]
  }
 ],
 "metadata": {
  "kernelspec": {
   "display_name": "Python 3",
   "language": "python",
   "name": "python3"
  },
  "language_info": {
   "codemirror_mode": {
    "name": "ipython",
    "version": 3
   },
   "file_extension": ".py",
   "mimetype": "text/x-python",
   "name": "python",
   "nbconvert_exporter": "python",
   "pygments_lexer": "ipython3",
   "version": "3.7.1"
  }
 },
 "nbformat": 4,
 "nbformat_minor": 4
}
